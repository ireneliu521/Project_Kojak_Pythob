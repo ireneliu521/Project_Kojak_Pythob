{
 "cells": [
  {
   "cell_type": "code",
   "execution_count": 131,
   "metadata": {},
   "outputs": [],
   "source": [
    "import warnings\n",
    "import pandas as pd\n",
    "import numpy as np\n",
    "from scipy.sparse import csr_matrix\n",
    "\n",
    "from sklearn.metrics.pairwise import cosine_similarity\n",
    "from sklearn.metrics.pairwise import manhattan_distances\n",
    "from sklearn.metrics.pairwise import euclidean_distances\n",
    "warnings.filterwarnings(\"ignore\")"
   ]
  },
  {
   "cell_type": "code",
   "execution_count": 140,
   "metadata": {},
   "outputs": [],
   "source": [
    "df = pd.read_csv('new.csv', index_col=0)\n",
    "df = df.dropna()"
   ]
  },
  {
   "cell_type": "code",
   "execution_count": 141,
   "metadata": {},
   "outputs": [
    {
     "data": {
      "text/html": [
       "<div>\n",
       "<style scoped>\n",
       "    .dataframe tbody tr th:only-of-type {\n",
       "        vertical-align: middle;\n",
       "    }\n",
       "\n",
       "    .dataframe tbody tr th {\n",
       "        vertical-align: top;\n",
       "    }\n",
       "\n",
       "    .dataframe thead th {\n",
       "        text-align: right;\n",
       "    }\n",
       "</style>\n",
       "<table border=\"1\" class=\"dataframe\">\n",
       "  <thead>\n",
       "    <tr style=\"text-align: right;\">\n",
       "      <th></th>\n",
       "      <th>Order_ID</th>\n",
       "      <th>Order_Date</th>\n",
       "      <th>Ship_Date</th>\n",
       "      <th>Ship_Mode</th>\n",
       "      <th>Customer_ID</th>\n",
       "      <th>Customer_Name</th>\n",
       "      <th>Segment</th>\n",
       "      <th>City</th>\n",
       "      <th>State</th>\n",
       "      <th>Country</th>\n",
       "      <th>...</th>\n",
       "      <th>Sales</th>\n",
       "      <th>Quantity</th>\n",
       "      <th>Discount</th>\n",
       "      <th>Profit</th>\n",
       "      <th>Shipping_Cost</th>\n",
       "      <th>Order_Priority</th>\n",
       "      <th>Processing_Time_days</th>\n",
       "      <th>Returned</th>\n",
       "      <th>Income_Level</th>\n",
       "      <th>Gender</th>\n",
       "    </tr>\n",
       "  </thead>\n",
       "  <tbody>\n",
       "    <tr>\n",
       "      <th>0</th>\n",
       "      <td>CA-2014-AB10015140-41954</td>\n",
       "      <td>2014-11-11</td>\n",
       "      <td>2014-11-13</td>\n",
       "      <td>First Class</td>\n",
       "      <td>AB-100151402</td>\n",
       "      <td>Aaron Bergman</td>\n",
       "      <td>Consumer</td>\n",
       "      <td>Oklahoma City</td>\n",
       "      <td>Oklahoma</td>\n",
       "      <td>United States</td>\n",
       "      <td>...</td>\n",
       "      <td>221.980</td>\n",
       "      <td>2</td>\n",
       "      <td>0.0</td>\n",
       "      <td>62.1544</td>\n",
       "      <td>40.77</td>\n",
       "      <td>High</td>\n",
       "      <td>2</td>\n",
       "      <td>0</td>\n",
       "      <td>High income</td>\n",
       "      <td>0</td>\n",
       "    </tr>\n",
       "    <tr>\n",
       "      <th>1</th>\n",
       "      <td>IN-2014-JR162107-41675</td>\n",
       "      <td>2014-02-05</td>\n",
       "      <td>2014-02-07</td>\n",
       "      <td>Second Class</td>\n",
       "      <td>JR-162107</td>\n",
       "      <td>Justin Ritter</td>\n",
       "      <td>Corporate</td>\n",
       "      <td>Wollongong</td>\n",
       "      <td>New South Wales</td>\n",
       "      <td>Australia</td>\n",
       "      <td>...</td>\n",
       "      <td>3709.395</td>\n",
       "      <td>9</td>\n",
       "      <td>0.1</td>\n",
       "      <td>-288.7650</td>\n",
       "      <td>923.63</td>\n",
       "      <td>Critical</td>\n",
       "      <td>2</td>\n",
       "      <td>0</td>\n",
       "      <td>High income</td>\n",
       "      <td>0</td>\n",
       "    </tr>\n",
       "    <tr>\n",
       "      <th>2</th>\n",
       "      <td>IN-2014-CR127307-41929</td>\n",
       "      <td>2014-10-17</td>\n",
       "      <td>2014-10-18</td>\n",
       "      <td>First Class</td>\n",
       "      <td>CR-127307</td>\n",
       "      <td>Craig Reiter</td>\n",
       "      <td>Consumer</td>\n",
       "      <td>Brisbane</td>\n",
       "      <td>Queensland</td>\n",
       "      <td>Australia</td>\n",
       "      <td>...</td>\n",
       "      <td>5175.171</td>\n",
       "      <td>9</td>\n",
       "      <td>0.1</td>\n",
       "      <td>919.9710</td>\n",
       "      <td>915.49</td>\n",
       "      <td>Medium</td>\n",
       "      <td>1</td>\n",
       "      <td>0</td>\n",
       "      <td>High income</td>\n",
       "      <td>0</td>\n",
       "    </tr>\n",
       "    <tr>\n",
       "      <th>3</th>\n",
       "      <td>ES-2014-KM1637548-41667</td>\n",
       "      <td>2014-01-28</td>\n",
       "      <td>2014-01-30</td>\n",
       "      <td>First Class</td>\n",
       "      <td>KM-1637548</td>\n",
       "      <td>Katherine Murray</td>\n",
       "      <td>Home Office</td>\n",
       "      <td>Berlin</td>\n",
       "      <td>Berlin</td>\n",
       "      <td>Germany</td>\n",
       "      <td>...</td>\n",
       "      <td>2892.510</td>\n",
       "      <td>5</td>\n",
       "      <td>0.1</td>\n",
       "      <td>-96.5400</td>\n",
       "      <td>910.16</td>\n",
       "      <td>Medium</td>\n",
       "      <td>2</td>\n",
       "      <td>0</td>\n",
       "      <td>High income</td>\n",
       "      <td>1</td>\n",
       "    </tr>\n",
       "    <tr>\n",
       "      <th>4</th>\n",
       "      <td>SG-2014-RH9495111-41948</td>\n",
       "      <td>2014-11-05</td>\n",
       "      <td>2014-11-06</td>\n",
       "      <td>Same Day</td>\n",
       "      <td>RH-9495111</td>\n",
       "      <td>Rick Hansen</td>\n",
       "      <td>Consumer</td>\n",
       "      <td>Dakar</td>\n",
       "      <td>Dakar</td>\n",
       "      <td>Senegal</td>\n",
       "      <td>...</td>\n",
       "      <td>2832.960</td>\n",
       "      <td>8</td>\n",
       "      <td>0.0</td>\n",
       "      <td>311.5200</td>\n",
       "      <td>903.04</td>\n",
       "      <td>Critical</td>\n",
       "      <td>1</td>\n",
       "      <td>0</td>\n",
       "      <td>Low income</td>\n",
       "      <td>0</td>\n",
       "    </tr>\n",
       "  </tbody>\n",
       "</table>\n",
       "<p>5 rows × 26 columns</p>\n",
       "</div>"
      ],
      "text/plain": [
       "                   Order_ID  Order_Date   Ship_Date     Ship_Mode  \\\n",
       "0  CA-2014-AB10015140-41954  2014-11-11  2014-11-13   First Class   \n",
       "1    IN-2014-JR162107-41675  2014-02-05  2014-02-07  Second Class   \n",
       "2    IN-2014-CR127307-41929  2014-10-17  2014-10-18   First Class   \n",
       "3   ES-2014-KM1637548-41667  2014-01-28  2014-01-30   First Class   \n",
       "4   SG-2014-RH9495111-41948  2014-11-05  2014-11-06      Same Day   \n",
       "\n",
       "    Customer_ID     Customer_Name      Segment           City  \\\n",
       "0  AB-100151402     Aaron Bergman     Consumer  Oklahoma City   \n",
       "1     JR-162107     Justin Ritter    Corporate     Wollongong   \n",
       "2     CR-127307      Craig Reiter     Consumer       Brisbane   \n",
       "3    KM-1637548  Katherine Murray  Home Office         Berlin   \n",
       "4    RH-9495111       Rick Hansen     Consumer          Dakar   \n",
       "\n",
       "             State        Country   ...       Sales Quantity Discount  \\\n",
       "0         Oklahoma  United States   ...     221.980        2      0.0   \n",
       "1  New South Wales      Australia   ...    3709.395        9      0.1   \n",
       "2       Queensland      Australia   ...    5175.171        9      0.1   \n",
       "3           Berlin        Germany   ...    2892.510        5      0.1   \n",
       "4            Dakar        Senegal   ...    2832.960        8      0.0   \n",
       "\n",
       "     Profit Shipping_Cost Order_Priority  Processing_Time_days  Returned  \\\n",
       "0   62.1544         40.77           High                     2         0   \n",
       "1 -288.7650        923.63       Critical                     2         0   \n",
       "2  919.9710        915.49         Medium                     1         0   \n",
       "3  -96.5400        910.16         Medium                     2         0   \n",
       "4  311.5200        903.04       Critical                     1         0   \n",
       "\n",
       "   Income_Level  Gender  \n",
       "0   High income       0  \n",
       "1   High income       0  \n",
       "2   High income       0  \n",
       "3   High income       1  \n",
       "4    Low income       0  \n",
       "\n",
       "[5 rows x 26 columns]"
      ]
     },
     "execution_count": 141,
     "metadata": {},
     "output_type": "execute_result"
    }
   ],
   "source": [
    "df.head()"
   ]
  },
  {
   "cell_type": "code",
   "execution_count": 142,
   "metadata": {},
   "outputs": [
    {
     "name": "stdout",
     "output_type": "stream",
     "text": [
      "<class 'pandas.core.frame.DataFrame'>\n",
      "Int64Index: 51213 entries, 0 to 51289\n",
      "Data columns (total 26 columns):\n",
      "Order_ID                51213 non-null object\n",
      "Order_Date              51213 non-null object\n",
      "Ship_Date               51213 non-null object\n",
      "Ship_Mode               51213 non-null object\n",
      "Customer_ID             51213 non-null object\n",
      "Customer_Name           51213 non-null object\n",
      "Segment                 51213 non-null object\n",
      "City                    51213 non-null object\n",
      "State                   51213 non-null object\n",
      "Country                 51213 non-null object\n",
      "Region                  51213 non-null object\n",
      "Market                  51213 non-null object\n",
      "Product_ID              51213 non-null object\n",
      "Category                51213 non-null object\n",
      "Sub-Category            51213 non-null object\n",
      "Product_Name            51213 non-null object\n",
      "Sales                   51213 non-null float64\n",
      "Quantity                51213 non-null int64\n",
      "Discount                51213 non-null float64\n",
      "Profit                  51213 non-null float64\n",
      "Shipping_Cost           51213 non-null float64\n",
      "Order_Priority          51213 non-null object\n",
      "Processing_Time_days    51213 non-null int64\n",
      "Returned                51213 non-null int64\n",
      "Income_Level            51213 non-null object\n",
      "Gender                  51213 non-null int64\n",
      "dtypes: float64(4), int64(4), object(18)\n",
      "memory usage: 10.5+ MB\n"
     ]
    }
   ],
   "source": [
    "df.info()"
   ]
  },
  {
   "cell_type": "code",
   "execution_count": 101,
   "metadata": {},
   "outputs": [],
   "source": [
    "# Product_ID\n",
    "purchased = df[['Customer_ID', 'Product_ID']]\n",
    "purchased['Count'] = 1\n",
    "Customer_ID = list((purchased.Customer_ID.unique()))\n",
    "Product_ID = list((purchased.Product_ID.unique()))\n",
    "\n",
    "data = purchased['Count'].tolist()\n",
    "row = purchased.Customer_ID.astype('category', categories=Customer_ID).cat.codes\n",
    "col = purchased.Product_ID.astype('category', categories=Product_ID).cat.codes\n",
    "sparse_matrix = csr_matrix((data, (row, col)), shape=(len(Customer_ID), len(Product_ID)))"
   ]
  },
  {
   "cell_type": "code",
   "execution_count": 105,
   "metadata": {},
   "outputs": [],
   "source": [
    "purchased_per_customer = pd.SparseDataFrame([pd.SparseSeries(sparse_matrix[i].toarray().ravel(), fill_value=0) for i in np.arange(sparse_matrix.shape[0])], index=Customer_ID, columns=Product_ID, default_fill_value=0)"
   ]
  },
  {
   "cell_type": "code",
   "execution_count": 147,
   "metadata": {},
   "outputs": [],
   "source": [
    "# Demographic data\n",
    "demog = df[['Customer_ID', 'Gender', 'Segment', 'Market', 'Income_Level']]\n",
    "demog['Segment'] = [s.replace('Consumer', '1').replace('Corporate', '2').replace('Home Office', '3') for s in demog.Segment]\n",
    "demog['Market'] = [m.replace('USCA', '1').replace('Asia Pacific', '2').replace('Europe', '3').replace('Africa', '4').replace('LATAM', '5') for m in demog.Market]\n",
    "demog['Income_Level'] = [i.replace('High income', '1').replace('Low income', '2').replace('Upper middle income', '3').replace('Lower middle income', '4') for i in demog.Income_Level]\n",
    "demog_by_customer = demog.groupby('Customer_ID').first()\n"
   ]
  },
  {
   "cell_type": "code",
   "execution_count": 152,
   "metadata": {},
   "outputs": [],
   "source": [
    "new_df = pd.concat([demog_by_customer, purchased_per_customer], axis=1, join='inner')"
   ]
  },
  {
   "cell_type": "code",
   "execution_count": 181,
   "metadata": {},
   "outputs": [],
   "source": [
    "cosine = pd.DataFrame(cosine_similarity(new_df))\n",
    "cosine.columns = new_df.index\n",
    "cosine.index = new_df.index"
   ]
  },
  {
   "cell_type": "code",
   "execution_count": 236,
   "metadata": {
    "scrolled": false
   },
   "outputs": [],
   "source": [
    "similarity = cosine.iloc[0][cosine.iloc[0] < 1].sort_values(ascending=False)"
   ]
  },
  {
   "cell_type": "code",
   "execution_count": 369,
   "metadata": {},
   "outputs": [
    {
     "data": {
      "text/plain": [
       "BO-11425102    0.902671\n",
       "HL-5040134     0.894427\n",
       "RP-1985558     0.885270\n",
       "KC-16675144    0.868079\n",
       "PG-18895130    0.866025\n",
       "JR-57009       0.866025\n",
       "CG-252060      0.866025\n",
       "DB-13405130    0.866025\n",
       "AH-1046527     0.866025\n",
       "TB-2140058     0.861640\n",
       "Name: AA-10315102, dtype: float64"
      ]
     },
     "execution_count": 369,
     "metadata": {},
     "output_type": "execute_result"
    }
   ],
   "source": [
    "similarity[:10]"
   ]
  },
  {
   "cell_type": "code",
   "execution_count": 260,
   "metadata": {},
   "outputs": [],
   "source": [
    "# Find top 10 users\n",
    "top_10 = similarity.index[:10]"
   ]
  },
  {
   "cell_type": "code",
   "execution_count": 323,
   "metadata": {},
   "outputs": [
    {
     "name": "stdout",
     "output_type": "stream",
     "text": [
      "BO-11425102 ['OFF-SU-4327']\n"
     ]
    }
   ],
   "source": [
    "# Check top 1 user first\n",
    "top_1 = similarity.index[0]\n",
    "purchased_history = df[df.Customer_ID == top_1]['Product_ID'].values\n",
    "print(top_1, purchased_history)"
   ]
  },
  {
   "cell_type": "code",
   "execution_count": 412,
   "metadata": {},
   "outputs": [],
   "source": [
    "# Check what have they purchased\n",
    "top_10_purchase_history = []\n",
    "recommend_items = []\n",
    "for user in top_10:\n",
    "    purchased_history = df[df.Customer_ID == user]['Product_ID'].values\n",
    "    for item in purchased_history:\n",
    "        if item not in top_10_purchase_history:\n",
    "            top_10_purchase_history.append(item)\n",
    "\n",
    "purchased_history_target = df[df.Customer_ID == similarity.name]['Product_ID'].values\n",
    "for item_target in purchased_history_target:\n",
    "    if item_target not in top_10_purchase_history:\n",
    "        recommend_items.append(item_target)\n",
    "        \n",
    "        "
   ]
  },
  {
   "cell_type": "code",
   "execution_count": 428,
   "metadata": {},
   "outputs": [],
   "source": [
    "def recommender(user, top_n):\n",
    "    user_index = list(cosine.columns).index(user)\n",
    "    similarity = cosine.iloc[user_index][cosine.iloc[user_index] < 1].sort_values(ascending=False)\n",
    "    top_n = similarity.index[:top_n]\n",
    "    top_n_purchase_history = []\n",
    "    recommend_items = []\n",
    "    for user in top_n:\n",
    "        purchased_history = df[df.Customer_ID == user]['Product_ID'].values\n",
    "        for item in purchased_history:\n",
    "            if item not in top_n_purchase_history:\n",
    "                top_n_purchase_history.append(item)\n",
    "    print(top_n_purchase_history)\n",
    "\n",
    "    purchased_history_target = df[df.Customer_ID == similarity.name]['Product_ID'].values\n",
    "    print(purchased_history_target)\n",
    "    for item_target in top_n_purchase_history:\n",
    "        if item_target not in purchased_history_target:\n",
    "            recommend_items.append(item_target)\n",
    "            \n",
    "    return recommend_items"
   ]
  },
  {
   "cell_type": "code",
   "execution_count": 429,
   "metadata": {
    "scrolled": true
   },
   "outputs": [
    {
     "name": "stdout",
     "output_type": "stream",
     "text": [
      "['OFF-SU-4327', 'OFF-LA-3273', 'OFF-LA-4693', 'OFF-ST-5702', 'TEC-MA-4190', 'OFF-AR-3477', 'FUR-TA-5069', 'OFF-ST-6024', 'OFF-BI-3723', 'OFF-PA-5853']\n",
      "['OFF-SU-4327']\n"
     ]
    },
    {
     "data": {
      "text/plain": [
       "['OFF-LA-3273',\n",
       " 'OFF-LA-4693',\n",
       " 'OFF-ST-5702',\n",
       " 'TEC-MA-4190',\n",
       " 'OFF-AR-3477',\n",
       " 'FUR-TA-5069',\n",
       " 'OFF-ST-6024',\n",
       " 'OFF-BI-3723',\n",
       " 'OFF-PA-5853']"
      ]
     },
     "execution_count": 429,
     "metadata": {},
     "output_type": "execute_result"
    }
   ],
   "source": [
    "recommender('BO-11425102', 10)"
   ]
  }
 ],
 "metadata": {
  "kernelspec": {
   "display_name": "Python 3",
   "language": "python",
   "name": "python3"
  },
  "language_info": {
   "codemirror_mode": {
    "name": "ipython",
    "version": 3
   },
   "file_extension": ".py",
   "mimetype": "text/x-python",
   "name": "python",
   "nbconvert_exporter": "python",
   "pygments_lexer": "ipython3",
   "version": "3.6.5"
  }
 },
 "nbformat": 4,
 "nbformat_minor": 2
}
